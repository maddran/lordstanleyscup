{
  "nbformat": 4,
  "nbformat_minor": 0,
  "metadata": {
    "colab": {
      "provenance": [],
      "collapsed_sections": [],
      "authorship_tag": "ABX9TyNvtMBYc01oG12fqD1cjNzX",
      "include_colab_link": true
    },
    "kernelspec": {
      "name": "python3",
      "display_name": "Python 3"
    },
    "language_info": {
      "name": "python"
    }
  },
  "cells": [
    {
      "cell_type": "markdown",
      "metadata": {
        "id": "view-in-github",
        "colab_type": "text"
      },
      "source": [
        "<a href=\"https://colab.research.google.com/github/maddran/lordstanleyscup/blob/main/code/LSC.ipynb\" target=\"_parent\"><img src=\"https://colab.research.google.com/assets/colab-badge.svg\" alt=\"Open In Colab\"/></a>"
      ]
    },
    {
      "cell_type": "code",
      "source": [
        "#@title Clone git repo and get helpers\n",
        "\n",
        "!rm -r lordstanleyscup/\n",
        "!git clone https://github.com/maddran/lordstanleyscup\n",
        "\n",
        "from lordstanleyscup.code.helpers import *"
      ],
      "metadata": {
        "colab": {
          "base_uri": "https://localhost:8080/"
        },
        "id": "N-m82eYlzDwb",
        "outputId": "81314c20-8ba3-4eab-afe7-4eebc15f149f",
        "cellView": "form"
      },
      "execution_count": 31,
      "outputs": [
        {
          "output_type": "stream",
          "name": "stdout",
          "text": [
            "Cloning into 'lordstanleyscup'...\n",
            "remote: Enumerating objects: 70, done.\u001b[K\n",
            "remote: Counting objects:   1% (1/70)\u001b[K\rremote: Counting objects:   2% (2/70)\u001b[K\rremote: Counting objects:   4% (3/70)\u001b[K\rremote: Counting objects:   5% (4/70)\u001b[K\rremote: Counting objects:   7% (5/70)\u001b[K\rremote: Counting objects:   8% (6/70)\u001b[K\rremote: Counting objects:  10% (7/70)\u001b[K\rremote: Counting objects:  11% (8/70)\u001b[K\rremote: Counting objects:  12% (9/70)\u001b[K\rremote: Counting objects:  14% (10/70)\u001b[K\rremote: Counting objects:  15% (11/70)\u001b[K\rremote: Counting objects:  17% (12/70)\u001b[K\rremote: Counting objects:  18% (13/70)\u001b[K\rremote: Counting objects:  20% (14/70)\u001b[K\rremote: Counting objects:  21% (15/70)\u001b[K\rremote: Counting objects:  22% (16/70)\u001b[K\rremote: Counting objects:  24% (17/70)\u001b[K\rremote: Counting objects:  25% (18/70)\u001b[K\rremote: Counting objects:  27% (19/70)\u001b[K\rremote: Counting objects:  28% (20/70)\u001b[K\rremote: Counting objects:  30% (21/70)\u001b[K\rremote: Counting objects:  31% (22/70)\u001b[K\rremote: Counting objects:  32% (23/70)\u001b[K\rremote: Counting objects:  34% (24/70)\u001b[K\rremote: Counting objects:  35% (25/70)\u001b[K\rremote: Counting objects:  37% (26/70)\u001b[K\rremote: Counting objects:  38% (27/70)\u001b[K\rremote: Counting objects:  40% (28/70)\u001b[K\rremote: Counting objects:  41% (29/70)\u001b[K\rremote: Counting objects:  42% (30/70)\u001b[K\rremote: Counting objects:  44% (31/70)\u001b[K\rremote: Counting objects:  45% (32/70)\u001b[K\rremote: Counting objects:  47% (33/70)\u001b[K\rremote: Counting objects:  48% (34/70)\u001b[K\rremote: Counting objects:  50% (35/70)\u001b[K\rremote: Counting objects:  51% (36/70)\u001b[K\rremote: Counting objects:  52% (37/70)\u001b[K\rremote: Counting objects:  54% (38/70)\u001b[K\rremote: Counting objects:  55% (39/70)\u001b[K\rremote: Counting objects:  57% (40/70)\u001b[K\rremote: Counting objects:  58% (41/70)\u001b[K\rremote: Counting objects:  60% (42/70)\u001b[K\rremote: Counting objects:  61% (43/70)\u001b[K\rremote: Counting objects:  62% (44/70)\u001b[K\rremote: Counting objects:  64% (45/70)\u001b[K\rremote: Counting objects:  65% (46/70)\u001b[K\rremote: Counting objects:  67% (47/70)\u001b[K\rremote: Counting objects:  68% (48/70)\u001b[K\rremote: Counting objects:  70% (49/70)\u001b[K\rremote: Counting objects:  71% (50/70)\u001b[K\rremote: Counting objects:  72% (51/70)\u001b[K\rremote: Counting objects:  74% (52/70)\u001b[K\rremote: Counting objects:  75% (53/70)\u001b[K\rremote: Counting objects:  77% (54/70)\u001b[K\rremote: Counting objects:  78% (55/70)\u001b[K\rremote: Counting objects:  80% (56/70)\u001b[K\rremote: Counting objects:  81% (57/70)\u001b[K\rremote: Counting objects:  82% (58/70)\u001b[K\rremote: Counting objects:  84% (59/70)\u001b[K\rremote: Counting objects:  85% (60/70)\u001b[K\rremote: Counting objects:  87% (61/70)\u001b[K\rremote: Counting objects:  88% (62/70)\u001b[K\rremote: Counting objects:  90% (63/70)\u001b[K\rremote: Counting objects:  91% (64/70)\u001b[K\rremote: Counting objects:  92% (65/70)\u001b[K\rremote: Counting objects:  94% (66/70)\u001b[K\rremote: Counting objects:  95% (67/70)\u001b[K\rremote: Counting objects:  97% (68/70)\u001b[K\rremote: Counting objects:  98% (69/70)\u001b[K\rremote: Counting objects: 100% (70/70)\u001b[K\rremote: Counting objects: 100% (70/70), done.\u001b[K\n",
            "remote: Compressing objects:   1% (1/63)\u001b[K\rremote: Compressing objects:   3% (2/63)\u001b[K\rremote: Compressing objects:   4% (3/63)\u001b[K\rremote: Compressing objects:   6% (4/63)\u001b[K\rremote: Compressing objects:   7% (5/63)\u001b[K\rremote: Compressing objects:   9% (6/63)\u001b[K\rremote: Compressing objects:  11% (7/63)\u001b[K\rremote: Compressing objects:  12% (8/63)\u001b[K\rremote: Compressing objects:  14% (9/63)\u001b[K\rremote: Compressing objects:  15% (10/63)\u001b[K\rremote: Compressing objects:  17% (11/63)\u001b[K\rremote: Compressing objects:  19% (12/63)\u001b[K\rremote: Compressing objects:  20% (13/63)\u001b[K\rremote: Compressing objects:  22% (14/63)\u001b[K\rremote: Compressing objects:  23% (15/63)\u001b[K\rremote: Compressing objects:  25% (16/63)\u001b[K\rremote: Compressing objects:  26% (17/63)\u001b[K\rremote: Compressing objects:  28% (18/63)\u001b[K\rremote: Compressing objects:  30% (19/63)\u001b[K\rremote: Compressing objects:  31% (20/63)\u001b[K\rremote: Compressing objects:  33% (21/63)\u001b[K\rremote: Compressing objects:  34% (22/63)\u001b[K\rremote: Compressing objects:  36% (23/63)\u001b[K\rremote: Compressing objects:  38% (24/63)\u001b[K\rremote: Compressing objects:  39% (25/63)\u001b[K\rremote: Compressing objects:  41% (26/63)\u001b[K\rremote: Compressing objects:  42% (27/63)\u001b[K\rremote: Compressing objects:  44% (28/63)\u001b[K\rremote: Compressing objects:  46% (29/63)\u001b[K\rremote: Compressing objects:  47% (30/63)\u001b[K\rremote: Compressing objects:  49% (31/63)\u001b[K\rremote: Compressing objects:  50% (32/63)\u001b[K\rremote: Compressing objects:  52% (33/63)\u001b[K\rremote: Compressing objects:  53% (34/63)\u001b[K\rremote: Compressing objects:  55% (35/63)\u001b[K\rremote: Compressing objects:  57% (36/63)\u001b[K\rremote: Compressing objects:  58% (37/63)\u001b[K\rremote: Compressing objects:  60% (38/63)\u001b[K\rremote: Compressing objects:  61% (39/63)\u001b[K\rremote: Compressing objects:  63% (40/63)\u001b[K\rremote: Compressing objects:  65% (41/63)\u001b[K\rremote: Compressing objects:  66% (42/63)\u001b[K\rremote: Compressing objects:  68% (43/63)\u001b[K\rremote: Compressing objects:  69% (44/63)\u001b[K\rremote: Compressing objects:  71% (45/63)\u001b[K\rremote: Compressing objects:  73% (46/63)\u001b[K\rremote: Compressing objects:  74% (47/63)\u001b[K\rremote: Compressing objects:  76% (48/63)\u001b[K\rremote: Compressing objects:  77% (49/63)\u001b[K\rremote: Compressing objects:  79% (50/63)\u001b[K\rremote: Compressing objects:  80% (51/63)\u001b[K\rremote: Compressing objects:  82% (52/63)\u001b[K\rremote: Compressing objects:  84% (53/63)\u001b[K\rremote: Compressing objects:  85% (54/63)\u001b[K\rremote: Compressing objects:  87% (55/63)\u001b[K\rremote: Compressing objects:  88% (56/63)\u001b[K\rremote: Compressing objects:  90% (57/63)\u001b[K\rremote: Compressing objects:  92% (58/63)\u001b[K\rremote: Compressing objects:  93% (59/63)\u001b[K\rremote: Compressing objects:  95% (60/63)\u001b[K\rremote: Compressing objects:  96% (61/63)\u001b[K\rremote: Compressing objects:  98% (62/63)\u001b[K\rremote: Compressing objects: 100% (63/63)\u001b[K\rremote: Compressing objects: 100% (63/63), done.\u001b[K\n",
            "Unpacking objects:   1% (1/70)   \rUnpacking objects:   2% (2/70)   \rUnpacking objects:   4% (3/70)   \rUnpacking objects:   5% (4/70)   \rUnpacking objects:   7% (5/70)   \rremote: Total 70 (delta 13), reused 0 (delta 0), pack-reused 0\u001b[K\n",
            "Unpacking objects:   8% (6/70)   \rUnpacking objects:  10% (7/70)   \rUnpacking objects:  11% (8/70)   \rUnpacking objects:  12% (9/70)   \rUnpacking objects:  14% (10/70)   \rUnpacking objects:  15% (11/70)   \rUnpacking objects:  17% (12/70)   \rUnpacking objects:  18% (13/70)   \rUnpacking objects:  20% (14/70)   \rUnpacking objects:  21% (15/70)   \rUnpacking objects:  22% (16/70)   \rUnpacking objects:  24% (17/70)   \rUnpacking objects:  25% (18/70)   \rUnpacking objects:  27% (19/70)   \rUnpacking objects:  28% (20/70)   \rUnpacking objects:  30% (21/70)   \rUnpacking objects:  31% (22/70)   \rUnpacking objects:  32% (23/70)   \rUnpacking objects:  34% (24/70)   \rUnpacking objects:  35% (25/70)   \rUnpacking objects:  37% (26/70)   \rUnpacking objects:  38% (27/70)   \rUnpacking objects:  40% (28/70)   \rUnpacking objects:  41% (29/70)   \rUnpacking objects:  42% (30/70)   \rUnpacking objects:  44% (31/70)   \rUnpacking objects:  45% (32/70)   \rUnpacking objects:  47% (33/70)   \rUnpacking objects:  48% (34/70)   \rUnpacking objects:  50% (35/70)   \rUnpacking objects:  51% (36/70)   \rUnpacking objects:  52% (37/70)   \rUnpacking objects:  54% (38/70)   \rUnpacking objects:  55% (39/70)   \rUnpacking objects:  57% (40/70)   \rUnpacking objects:  58% (41/70)   \rUnpacking objects:  60% (42/70)   \rUnpacking objects:  61% (43/70)   \rUnpacking objects:  62% (44/70)   \rUnpacking objects:  64% (45/70)   \rUnpacking objects:  65% (46/70)   \rUnpacking objects:  67% (47/70)   \rUnpacking objects:  68% (48/70)   \rUnpacking objects:  70% (49/70)   \rUnpacking objects:  71% (50/70)   \rUnpacking objects:  72% (51/70)   \rUnpacking objects:  74% (52/70)   \rUnpacking objects:  75% (53/70)   \rUnpacking objects:  77% (54/70)   \rUnpacking objects:  78% (55/70)   \rUnpacking objects:  80% (56/70)   \rUnpacking objects:  81% (57/70)   \rUnpacking objects:  82% (58/70)   \rUnpacking objects:  84% (59/70)   \rUnpacking objects:  85% (60/70)   \rUnpacking objects:  87% (61/70)   \rUnpacking objects:  88% (62/70)   \rUnpacking objects:  90% (63/70)   \rUnpacking objects:  91% (64/70)   \rUnpacking objects:  92% (65/70)   \rUnpacking objects:  94% (66/70)   \rUnpacking objects:  95% (67/70)   \rUnpacking objects:  97% (68/70)   \rUnpacking objects:  98% (69/70)   \rUnpacking objects: 100% (70/70)   \rUnpacking objects: 100% (70/70), done.\n"
          ]
        }
      ]
    },
    {
      "cell_type": "code",
      "source": [
        "SEASON = 2022 #@param {type:\"integer\"}\n",
        "SCWINNER = \"COL\" #@param {type:\"string\"}\n",
        "\n",
        "\n"
      ],
      "metadata": {
        "cellView": "form",
        "id": "7tPwt82ZU4Md"
      },
      "execution_count": 32,
      "outputs": []
    },
    {
      "cell_type": "code",
      "source": [
        "#@title Get schedule and draft results\n",
        "\n",
        "sched_df = get_schedule(SEASON)\n",
        "\n",
        "draft_data_path = f\"/content/lordstanleyscup/draft_data/Stanley Cup - {str(SEASON)[-2:]}_{str(SEASON+1)[-2:]} - Draft.csv\"\n",
        "draft_df = pd.read_csv(draft_data_path)\n",
        "draft_df.columns = ['round', 'pick', 'owner', 'team']\n",
        "\n",
        "draft_LU = dict(zip(draft_df.team, draft_df.owner))\n",
        "\n",
        "score_df = sched_df\n",
        "\n",
        "score_df['cupGame'] = 0\n",
        "score_df['cupTeam'] = None"
      ],
      "metadata": {
        "id": "mplEVY6czJ1N"
      },
      "execution_count": 33,
      "outputs": []
    },
    {
      "cell_type": "code",
      "source": [
        "import pandas as pd\n",
        "import numpy as np\n",
        "from datetime import datetime, timedelta\n",
        "\n",
        "def next_cup_game(df, cupteam):\n",
        "  return min((df[df.cupTeam.isnull()].homeTeam == cupteam).idxmax(),\n",
        "    (df[df.cupTeam.isnull()].awayTeam == cupteam).idxmax())\n",
        "\n",
        "def get_winner(row):\n",
        "  if row.homeScore > row.awayScore:\n",
        "    return row.homeTeam\n",
        "  elif row.homeScore < row.awayScore:\n",
        "    return row.awayTeam\n",
        "  else:\n",
        "    return None\n",
        "\n",
        "def score_season(df, cupteam = SCWINNER):\n",
        "\n",
        "  if df.cupTeam.last_valid_index() is None:\n",
        "    last_idx = 0\n",
        "  else:\n",
        "    last_idx = df.cupTeam.last_valid_index()\n",
        "    cupteam = df.loc[last_idx,'cupTeam']\n",
        "\n",
        "  next_idx = next_cup_game(df, cupteam)\n",
        "  if(last_idx != 0 and next_idx <= last_idx+1):\n",
        "    return\n",
        "\n",
        "  df.loc[next_idx, 'cupGame'] = 1\n",
        "  df.loc[last_idx:next_idx-1, 'cupTeam'] = cupteam\n",
        "  cupteam = get_winner(df.loc[next_idx])\n",
        "  df.loc[next_idx, 'cupTeam'] = cupteam\n",
        "\n",
        "  score_season(df, cupteam)\n"
      ],
      "metadata": {
        "id": "VzQXn2pOhO3E"
      },
      "execution_count": 34,
      "outputs": []
    },
    {
      "cell_type": "code",
      "source": [
        "score_season(score_df, SCWINNER)\n",
        "\n",
        "for p in ['home', 'away', 'cup']:\n",
        "  score_df[f'{p}Owner'] = score_df[f'{p}Team'].apply(lambda x: draft_LU.get(x)).fillna('')"
      ],
      "metadata": {
        "id": "oymwE6J7thne"
      },
      "execution_count": 35,
      "outputs": []
    },
    {
      "cell_type": "code",
      "source": [
        "#@title Total points and cup games\n",
        "\n",
        "points_df = score_df[(score_df.cupGame == 1) & ((score_df.homeScore + score_df.awayScore) != 0)]\n",
        "\n",
        "points_summary = points_df.groupby(['cupOwner']).cupGame.sum().reset_index()\n",
        "points_summary.columns = ['owner', 'points']\n",
        "\n",
        "cup_games_summary_home = points_df.groupby(['homeOwner','homeTeam']).cupGame.sum().reset_index()\n",
        "cup_games_summary_home.columns = ['owner', 'team', 'cupGames']\n",
        "cup_games_summary_away = points_df.groupby(['awayOwner','awayTeam']).cupGame.sum().reset_index()\n",
        "cup_games_summary_away.columns = ['owner', 'team', 'cupGames']\n",
        "\n",
        "cup_games_summary = pd.concat([cup_games_summary_away, cup_games_summary_home]).groupby(['owner']).cupGames.sum().reset_index()\n",
        "\n",
        "full_summary = cup_games_summary.merge(points_summary, how = 'outer').fillna(0).sort_values(by=['points', 'cupGames'], ascending=[False,True])\n",
        "full_summary"
      ],
      "metadata": {
        "colab": {
          "base_uri": "https://localhost:8080/",
          "height": 143
        },
        "id": "mq-iVWR8772W",
        "outputId": "d0bda05a-dd4f-4d7a-dde9-4f70471fca0d"
      },
      "execution_count": 36,
      "outputs": [
        {
          "output_type": "execute_result",
          "data": {
            "text/plain": [
              "  owner  cupGames  points\n",
              "0     A         5     3.0\n",
              "1     E         4     2.0\n",
              "2     M         1     0.0"
            ],
            "text/html": [
              "\n",
              "  <div id=\"df-358c46e8-ff2d-48a6-9a66-bea2b7df8279\">\n",
              "    <div class=\"colab-df-container\">\n",
              "      <div>\n",
              "<style scoped>\n",
              "    .dataframe tbody tr th:only-of-type {\n",
              "        vertical-align: middle;\n",
              "    }\n",
              "\n",
              "    .dataframe tbody tr th {\n",
              "        vertical-align: top;\n",
              "    }\n",
              "\n",
              "    .dataframe thead th {\n",
              "        text-align: right;\n",
              "    }\n",
              "</style>\n",
              "<table border=\"1\" class=\"dataframe\">\n",
              "  <thead>\n",
              "    <tr style=\"text-align: right;\">\n",
              "      <th></th>\n",
              "      <th>owner</th>\n",
              "      <th>cupGames</th>\n",
              "      <th>points</th>\n",
              "    </tr>\n",
              "  </thead>\n",
              "  <tbody>\n",
              "    <tr>\n",
              "      <th>0</th>\n",
              "      <td>A</td>\n",
              "      <td>5</td>\n",
              "      <td>3.0</td>\n",
              "    </tr>\n",
              "    <tr>\n",
              "      <th>1</th>\n",
              "      <td>E</td>\n",
              "      <td>4</td>\n",
              "      <td>2.0</td>\n",
              "    </tr>\n",
              "    <tr>\n",
              "      <th>2</th>\n",
              "      <td>M</td>\n",
              "      <td>1</td>\n",
              "      <td>0.0</td>\n",
              "    </tr>\n",
              "  </tbody>\n",
              "</table>\n",
              "</div>\n",
              "      <button class=\"colab-df-convert\" onclick=\"convertToInteractive('df-358c46e8-ff2d-48a6-9a66-bea2b7df8279')\"\n",
              "              title=\"Convert this dataframe to an interactive table.\"\n",
              "              style=\"display:none;\">\n",
              "        \n",
              "  <svg xmlns=\"http://www.w3.org/2000/svg\" height=\"24px\"viewBox=\"0 0 24 24\"\n",
              "       width=\"24px\">\n",
              "    <path d=\"M0 0h24v24H0V0z\" fill=\"none\"/>\n",
              "    <path d=\"M18.56 5.44l.94 2.06.94-2.06 2.06-.94-2.06-.94-.94-2.06-.94 2.06-2.06.94zm-11 1L8.5 8.5l.94-2.06 2.06-.94-2.06-.94L8.5 2.5l-.94 2.06-2.06.94zm10 10l.94 2.06.94-2.06 2.06-.94-2.06-.94-.94-2.06-.94 2.06-2.06.94z\"/><path d=\"M17.41 7.96l-1.37-1.37c-.4-.4-.92-.59-1.43-.59-.52 0-1.04.2-1.43.59L10.3 9.45l-7.72 7.72c-.78.78-.78 2.05 0 2.83L4 21.41c.39.39.9.59 1.41.59.51 0 1.02-.2 1.41-.59l7.78-7.78 2.81-2.81c.8-.78.8-2.07 0-2.86zM5.41 20L4 18.59l7.72-7.72 1.47 1.35L5.41 20z\"/>\n",
              "  </svg>\n",
              "      </button>\n",
              "      \n",
              "  <style>\n",
              "    .colab-df-container {\n",
              "      display:flex;\n",
              "      flex-wrap:wrap;\n",
              "      gap: 12px;\n",
              "    }\n",
              "\n",
              "    .colab-df-convert {\n",
              "      background-color: #E8F0FE;\n",
              "      border: none;\n",
              "      border-radius: 50%;\n",
              "      cursor: pointer;\n",
              "      display: none;\n",
              "      fill: #1967D2;\n",
              "      height: 32px;\n",
              "      padding: 0 0 0 0;\n",
              "      width: 32px;\n",
              "    }\n",
              "\n",
              "    .colab-df-convert:hover {\n",
              "      background-color: #E2EBFA;\n",
              "      box-shadow: 0px 1px 2px rgba(60, 64, 67, 0.3), 0px 1px 3px 1px rgba(60, 64, 67, 0.15);\n",
              "      fill: #174EA6;\n",
              "    }\n",
              "\n",
              "    [theme=dark] .colab-df-convert {\n",
              "      background-color: #3B4455;\n",
              "      fill: #D2E3FC;\n",
              "    }\n",
              "\n",
              "    [theme=dark] .colab-df-convert:hover {\n",
              "      background-color: #434B5C;\n",
              "      box-shadow: 0px 1px 3px 1px rgba(0, 0, 0, 0.15);\n",
              "      filter: drop-shadow(0px 1px 2px rgba(0, 0, 0, 0.3));\n",
              "      fill: #FFFFFF;\n",
              "    }\n",
              "  </style>\n",
              "\n",
              "      <script>\n",
              "        const buttonEl =\n",
              "          document.querySelector('#df-358c46e8-ff2d-48a6-9a66-bea2b7df8279 button.colab-df-convert');\n",
              "        buttonEl.style.display =\n",
              "          google.colab.kernel.accessAllowed ? 'block' : 'none';\n",
              "\n",
              "        async function convertToInteractive(key) {\n",
              "          const element = document.querySelector('#df-358c46e8-ff2d-48a6-9a66-bea2b7df8279');\n",
              "          const dataTable =\n",
              "            await google.colab.kernel.invokeFunction('convertToInteractive',\n",
              "                                                     [key], {});\n",
              "          if (!dataTable) return;\n",
              "\n",
              "          const docLinkHtml = 'Like what you see? Visit the ' +\n",
              "            '<a target=\"_blank\" href=https://colab.research.google.com/notebooks/data_table.ipynb>data table notebook</a>'\n",
              "            + ' to learn more about interactive tables.';\n",
              "          element.innerHTML = '';\n",
              "          dataTable['output_type'] = 'display_data';\n",
              "          await google.colab.output.renderOutput(dataTable, element);\n",
              "          const docLink = document.createElement('div');\n",
              "          docLink.innerHTML = docLinkHtml;\n",
              "          element.appendChild(docLink);\n",
              "        }\n",
              "      </script>\n",
              "    </div>\n",
              "  </div>\n",
              "  "
            ]
          },
          "metadata": {},
          "execution_count": 36
        }
      ]
    },
    {
      "cell_type": "code",
      "source": [
        "#@title Point snake\n",
        "\n",
        "snake = points_df.groupby(['gameDate','cupOwner','cupTeam']).cupGame.sum().groupby(level=1).cumsum().reset_index()\n",
        "snake.columns = ['gameDate', 'owner', 'cupTeam', 'points']\n",
        "snake = snake.pivot(index='gameDate', columns='owner', values='points')\n",
        "snake.index = pd.to_datetime(snake.index)\n",
        "\n",
        "snake.loc[min(snake.index) - timedelta(days=1)] = 0\n",
        "snake.sort_index(inplace=True)\n",
        "\n",
        "snake.loc[max(snake.index) + timedelta(days=1)] = snake.loc[max(snake.index), :]\n",
        "snake.sort_index(inplace=True)\n",
        "\n",
        "snake.iloc[0].fillna(0,inplace=True)\n",
        "snake.ffill(axis = 0, inplace=True)\n",
        "\n",
        "snake"
      ],
      "metadata": {
        "colab": {
          "base_uri": "https://localhost:8080/",
          "height": 300
        },
        "id": "o6Lmjsq9DLJE",
        "outputId": "f43b7d47-2685-4004-a5f3-97f8b02ca19c"
      },
      "execution_count": 42,
      "outputs": [
        {
          "output_type": "execute_result",
          "data": {
            "text/plain": [
              "owner         A    E\n",
              "gameDate            \n",
              "2022-10-11  0.0  0.0\n",
              "2022-10-12  0.0  1.0\n",
              "2022-10-13  1.0  1.0\n",
              "2022-10-15  2.0  1.0\n",
              "2022-10-18  3.0  1.0\n",
              "2022-10-20  3.0  2.0\n",
              "2022-10-21  3.0  2.0"
            ],
            "text/html": [
              "\n",
              "  <div id=\"df-e94fd10c-2836-4fd3-a3d7-d14d87cbc35e\">\n",
              "    <div class=\"colab-df-container\">\n",
              "      <div>\n",
              "<style scoped>\n",
              "    .dataframe tbody tr th:only-of-type {\n",
              "        vertical-align: middle;\n",
              "    }\n",
              "\n",
              "    .dataframe tbody tr th {\n",
              "        vertical-align: top;\n",
              "    }\n",
              "\n",
              "    .dataframe thead th {\n",
              "        text-align: right;\n",
              "    }\n",
              "</style>\n",
              "<table border=\"1\" class=\"dataframe\">\n",
              "  <thead>\n",
              "    <tr style=\"text-align: right;\">\n",
              "      <th>owner</th>\n",
              "      <th>A</th>\n",
              "      <th>E</th>\n",
              "    </tr>\n",
              "    <tr>\n",
              "      <th>gameDate</th>\n",
              "      <th></th>\n",
              "      <th></th>\n",
              "    </tr>\n",
              "  </thead>\n",
              "  <tbody>\n",
              "    <tr>\n",
              "      <th>2022-10-11</th>\n",
              "      <td>0.0</td>\n",
              "      <td>0.0</td>\n",
              "    </tr>\n",
              "    <tr>\n",
              "      <th>2022-10-12</th>\n",
              "      <td>0.0</td>\n",
              "      <td>1.0</td>\n",
              "    </tr>\n",
              "    <tr>\n",
              "      <th>2022-10-13</th>\n",
              "      <td>1.0</td>\n",
              "      <td>1.0</td>\n",
              "    </tr>\n",
              "    <tr>\n",
              "      <th>2022-10-15</th>\n",
              "      <td>2.0</td>\n",
              "      <td>1.0</td>\n",
              "    </tr>\n",
              "    <tr>\n",
              "      <th>2022-10-18</th>\n",
              "      <td>3.0</td>\n",
              "      <td>1.0</td>\n",
              "    </tr>\n",
              "    <tr>\n",
              "      <th>2022-10-20</th>\n",
              "      <td>3.0</td>\n",
              "      <td>2.0</td>\n",
              "    </tr>\n",
              "    <tr>\n",
              "      <th>2022-10-21</th>\n",
              "      <td>3.0</td>\n",
              "      <td>2.0</td>\n",
              "    </tr>\n",
              "  </tbody>\n",
              "</table>\n",
              "</div>\n",
              "      <button class=\"colab-df-convert\" onclick=\"convertToInteractive('df-e94fd10c-2836-4fd3-a3d7-d14d87cbc35e')\"\n",
              "              title=\"Convert this dataframe to an interactive table.\"\n",
              "              style=\"display:none;\">\n",
              "        \n",
              "  <svg xmlns=\"http://www.w3.org/2000/svg\" height=\"24px\"viewBox=\"0 0 24 24\"\n",
              "       width=\"24px\">\n",
              "    <path d=\"M0 0h24v24H0V0z\" fill=\"none\"/>\n",
              "    <path d=\"M18.56 5.44l.94 2.06.94-2.06 2.06-.94-2.06-.94-.94-2.06-.94 2.06-2.06.94zm-11 1L8.5 8.5l.94-2.06 2.06-.94-2.06-.94L8.5 2.5l-.94 2.06-2.06.94zm10 10l.94 2.06.94-2.06 2.06-.94-2.06-.94-.94-2.06-.94 2.06-2.06.94z\"/><path d=\"M17.41 7.96l-1.37-1.37c-.4-.4-.92-.59-1.43-.59-.52 0-1.04.2-1.43.59L10.3 9.45l-7.72 7.72c-.78.78-.78 2.05 0 2.83L4 21.41c.39.39.9.59 1.41.59.51 0 1.02-.2 1.41-.59l7.78-7.78 2.81-2.81c.8-.78.8-2.07 0-2.86zM5.41 20L4 18.59l7.72-7.72 1.47 1.35L5.41 20z\"/>\n",
              "  </svg>\n",
              "      </button>\n",
              "      \n",
              "  <style>\n",
              "    .colab-df-container {\n",
              "      display:flex;\n",
              "      flex-wrap:wrap;\n",
              "      gap: 12px;\n",
              "    }\n",
              "\n",
              "    .colab-df-convert {\n",
              "      background-color: #E8F0FE;\n",
              "      border: none;\n",
              "      border-radius: 50%;\n",
              "      cursor: pointer;\n",
              "      display: none;\n",
              "      fill: #1967D2;\n",
              "      height: 32px;\n",
              "      padding: 0 0 0 0;\n",
              "      width: 32px;\n",
              "    }\n",
              "\n",
              "    .colab-df-convert:hover {\n",
              "      background-color: #E2EBFA;\n",
              "      box-shadow: 0px 1px 2px rgba(60, 64, 67, 0.3), 0px 1px 3px 1px rgba(60, 64, 67, 0.15);\n",
              "      fill: #174EA6;\n",
              "    }\n",
              "\n",
              "    [theme=dark] .colab-df-convert {\n",
              "      background-color: #3B4455;\n",
              "      fill: #D2E3FC;\n",
              "    }\n",
              "\n",
              "    [theme=dark] .colab-df-convert:hover {\n",
              "      background-color: #434B5C;\n",
              "      box-shadow: 0px 1px 3px 1px rgba(0, 0, 0, 0.15);\n",
              "      filter: drop-shadow(0px 1px 2px rgba(0, 0, 0, 0.3));\n",
              "      fill: #FFFFFF;\n",
              "    }\n",
              "  </style>\n",
              "\n",
              "      <script>\n",
              "        const buttonEl =\n",
              "          document.querySelector('#df-e94fd10c-2836-4fd3-a3d7-d14d87cbc35e button.colab-df-convert');\n",
              "        buttonEl.style.display =\n",
              "          google.colab.kernel.accessAllowed ? 'block' : 'none';\n",
              "\n",
              "        async function convertToInteractive(key) {\n",
              "          const element = document.querySelector('#df-e94fd10c-2836-4fd3-a3d7-d14d87cbc35e');\n",
              "          const dataTable =\n",
              "            await google.colab.kernel.invokeFunction('convertToInteractive',\n",
              "                                                     [key], {});\n",
              "          if (!dataTable) return;\n",
              "\n",
              "          const docLinkHtml = 'Like what you see? Visit the ' +\n",
              "            '<a target=\"_blank\" href=https://colab.research.google.com/notebooks/data_table.ipynb>data table notebook</a>'\n",
              "            + ' to learn more about interactive tables.';\n",
              "          element.innerHTML = '';\n",
              "          dataTable['output_type'] = 'display_data';\n",
              "          await google.colab.output.renderOutput(dataTable, element);\n",
              "          const docLink = document.createElement('div');\n",
              "          docLink.innerHTML = docLinkHtml;\n",
              "          element.appendChild(docLink);\n",
              "        }\n",
              "      </script>\n",
              "    </div>\n",
              "  </div>\n",
              "  "
            ]
          },
          "metadata": {},
          "execution_count": 42
        }
      ]
    },
    {
      "cell_type": "code",
      "source": [
        "#@title Plot snake\n",
        "\n",
        "import plotly.express as px\n",
        "\n",
        "fig = px.line(snake.reset_index(), \n",
        "              x='gameDate', y=snake.columns, \n",
        "              template = 'plotly_dark', width=800, height=400)\n",
        "fig.update_traces(mode=\"lines\", line_shape=\"hv\", line=dict(width=7))\n",
        "fig.show()"
      ],
      "metadata": {
        "colab": {
          "base_uri": "https://localhost:8080/",
          "height": 417
        },
        "id": "5c0wErD5Jhay",
        "outputId": "5758b434-361b-4927-bdbd-3c5c7226385e"
      },
      "execution_count": 47,
      "outputs": [
        {
          "output_type": "display_data",
          "data": {
            "text/html": [
              "<html>\n",
              "<head><meta charset=\"utf-8\" /></head>\n",
              "<body>\n",
              "    <div>            <script src=\"https://cdnjs.cloudflare.com/ajax/libs/mathjax/2.7.5/MathJax.js?config=TeX-AMS-MML_SVG\"></script><script type=\"text/javascript\">if (window.MathJax) {MathJax.Hub.Config({SVG: {font: \"STIX-Web\"}});}</script>                <script type=\"text/javascript\">window.PlotlyConfig = {MathJaxConfig: 'local'};</script>\n",
              "        <script src=\"https://cdn.plot.ly/plotly-2.8.3.min.js\"></script>                <div id=\"5a392d72-25da-4f94-aad2-6fd1b096354c\" class=\"plotly-graph-div\" style=\"height:400px; width:800px;\"></div>            <script type=\"text/javascript\">                                    window.PLOTLYENV=window.PLOTLYENV || {};                                    if (document.getElementById(\"5a392d72-25da-4f94-aad2-6fd1b096354c\")) {                    Plotly.newPlot(                        \"5a392d72-25da-4f94-aad2-6fd1b096354c\",                        [{\"hovertemplate\":\"variable=A<br>gameDate=%{x}<br>value=%{y}<extra></extra>\",\"legendgroup\":\"A\",\"line\":{\"color\":\"#636efa\",\"dash\":\"solid\",\"shape\":\"hv\",\"width\":7},\"marker\":{\"symbol\":\"circle\"},\"mode\":\"lines\",\"name\":\"A\",\"orientation\":\"v\",\"showlegend\":true,\"x\":[\"2022-10-11T00:00:00\",\"2022-10-12T00:00:00\",\"2022-10-13T00:00:00\",\"2022-10-15T00:00:00\",\"2022-10-18T00:00:00\",\"2022-10-20T00:00:00\",\"2022-10-21T00:00:00\"],\"xaxis\":\"x\",\"y\":[0.0,0.0,1.0,2.0,3.0,3.0,3.0],\"yaxis\":\"y\",\"type\":\"scatter\"},{\"hovertemplate\":\"variable=E<br>gameDate=%{x}<br>value=%{y}<extra></extra>\",\"legendgroup\":\"E\",\"line\":{\"color\":\"#EF553B\",\"dash\":\"solid\",\"shape\":\"hv\",\"width\":7},\"marker\":{\"symbol\":\"circle\"},\"mode\":\"lines\",\"name\":\"E\",\"orientation\":\"v\",\"showlegend\":true,\"x\":[\"2022-10-11T00:00:00\",\"2022-10-12T00:00:00\",\"2022-10-13T00:00:00\",\"2022-10-15T00:00:00\",\"2022-10-18T00:00:00\",\"2022-10-20T00:00:00\",\"2022-10-21T00:00:00\"],\"xaxis\":\"x\",\"y\":[0.0,1.0,1.0,1.0,1.0,2.0,2.0],\"yaxis\":\"y\",\"type\":\"scatter\"}],                        {\"template\":{\"data\":{\"barpolar\":[{\"marker\":{\"line\":{\"color\":\"rgb(17,17,17)\",\"width\":0.5},\"pattern\":{\"fillmode\":\"overlay\",\"size\":10,\"solidity\":0.2}},\"type\":\"barpolar\"}],\"bar\":[{\"error_x\":{\"color\":\"#f2f5fa\"},\"error_y\":{\"color\":\"#f2f5fa\"},\"marker\":{\"line\":{\"color\":\"rgb(17,17,17)\",\"width\":0.5},\"pattern\":{\"fillmode\":\"overlay\",\"size\":10,\"solidity\":0.2}},\"type\":\"bar\"}],\"carpet\":[{\"aaxis\":{\"endlinecolor\":\"#A2B1C6\",\"gridcolor\":\"#506784\",\"linecolor\":\"#506784\",\"minorgridcolor\":\"#506784\",\"startlinecolor\":\"#A2B1C6\"},\"baxis\":{\"endlinecolor\":\"#A2B1C6\",\"gridcolor\":\"#506784\",\"linecolor\":\"#506784\",\"minorgridcolor\":\"#506784\",\"startlinecolor\":\"#A2B1C6\"},\"type\":\"carpet\"}],\"choropleth\":[{\"colorbar\":{\"outlinewidth\":0,\"ticks\":\"\"},\"type\":\"choropleth\"}],\"contourcarpet\":[{\"colorbar\":{\"outlinewidth\":0,\"ticks\":\"\"},\"type\":\"contourcarpet\"}],\"contour\":[{\"colorbar\":{\"outlinewidth\":0,\"ticks\":\"\"},\"colorscale\":[[0.0,\"#0d0887\"],[0.1111111111111111,\"#46039f\"],[0.2222222222222222,\"#7201a8\"],[0.3333333333333333,\"#9c179e\"],[0.4444444444444444,\"#bd3786\"],[0.5555555555555556,\"#d8576b\"],[0.6666666666666666,\"#ed7953\"],[0.7777777777777778,\"#fb9f3a\"],[0.8888888888888888,\"#fdca26\"],[1.0,\"#f0f921\"]],\"type\":\"contour\"}],\"heatmapgl\":[{\"colorbar\":{\"outlinewidth\":0,\"ticks\":\"\"},\"colorscale\":[[0.0,\"#0d0887\"],[0.1111111111111111,\"#46039f\"],[0.2222222222222222,\"#7201a8\"],[0.3333333333333333,\"#9c179e\"],[0.4444444444444444,\"#bd3786\"],[0.5555555555555556,\"#d8576b\"],[0.6666666666666666,\"#ed7953\"],[0.7777777777777778,\"#fb9f3a\"],[0.8888888888888888,\"#fdca26\"],[1.0,\"#f0f921\"]],\"type\":\"heatmapgl\"}],\"heatmap\":[{\"colorbar\":{\"outlinewidth\":0,\"ticks\":\"\"},\"colorscale\":[[0.0,\"#0d0887\"],[0.1111111111111111,\"#46039f\"],[0.2222222222222222,\"#7201a8\"],[0.3333333333333333,\"#9c179e\"],[0.4444444444444444,\"#bd3786\"],[0.5555555555555556,\"#d8576b\"],[0.6666666666666666,\"#ed7953\"],[0.7777777777777778,\"#fb9f3a\"],[0.8888888888888888,\"#fdca26\"],[1.0,\"#f0f921\"]],\"type\":\"heatmap\"}],\"histogram2dcontour\":[{\"colorbar\":{\"outlinewidth\":0,\"ticks\":\"\"},\"colorscale\":[[0.0,\"#0d0887\"],[0.1111111111111111,\"#46039f\"],[0.2222222222222222,\"#7201a8\"],[0.3333333333333333,\"#9c179e\"],[0.4444444444444444,\"#bd3786\"],[0.5555555555555556,\"#d8576b\"],[0.6666666666666666,\"#ed7953\"],[0.7777777777777778,\"#fb9f3a\"],[0.8888888888888888,\"#fdca26\"],[1.0,\"#f0f921\"]],\"type\":\"histogram2dcontour\"}],\"histogram2d\":[{\"colorbar\":{\"outlinewidth\":0,\"ticks\":\"\"},\"colorscale\":[[0.0,\"#0d0887\"],[0.1111111111111111,\"#46039f\"],[0.2222222222222222,\"#7201a8\"],[0.3333333333333333,\"#9c179e\"],[0.4444444444444444,\"#bd3786\"],[0.5555555555555556,\"#d8576b\"],[0.6666666666666666,\"#ed7953\"],[0.7777777777777778,\"#fb9f3a\"],[0.8888888888888888,\"#fdca26\"],[1.0,\"#f0f921\"]],\"type\":\"histogram2d\"}],\"histogram\":[{\"marker\":{\"pattern\":{\"fillmode\":\"overlay\",\"size\":10,\"solidity\":0.2}},\"type\":\"histogram\"}],\"mesh3d\":[{\"colorbar\":{\"outlinewidth\":0,\"ticks\":\"\"},\"type\":\"mesh3d\"}],\"parcoords\":[{\"line\":{\"colorbar\":{\"outlinewidth\":0,\"ticks\":\"\"}},\"type\":\"parcoords\"}],\"pie\":[{\"automargin\":true,\"type\":\"pie\"}],\"scatter3d\":[{\"line\":{\"colorbar\":{\"outlinewidth\":0,\"ticks\":\"\"}},\"marker\":{\"colorbar\":{\"outlinewidth\":0,\"ticks\":\"\"}},\"type\":\"scatter3d\"}],\"scattercarpet\":[{\"marker\":{\"colorbar\":{\"outlinewidth\":0,\"ticks\":\"\"}},\"type\":\"scattercarpet\"}],\"scattergeo\":[{\"marker\":{\"colorbar\":{\"outlinewidth\":0,\"ticks\":\"\"}},\"type\":\"scattergeo\"}],\"scattergl\":[{\"marker\":{\"line\":{\"color\":\"#283442\"}},\"type\":\"scattergl\"}],\"scattermapbox\":[{\"marker\":{\"colorbar\":{\"outlinewidth\":0,\"ticks\":\"\"}},\"type\":\"scattermapbox\"}],\"scatterpolargl\":[{\"marker\":{\"colorbar\":{\"outlinewidth\":0,\"ticks\":\"\"}},\"type\":\"scatterpolargl\"}],\"scatterpolar\":[{\"marker\":{\"colorbar\":{\"outlinewidth\":0,\"ticks\":\"\"}},\"type\":\"scatterpolar\"}],\"scatter\":[{\"marker\":{\"line\":{\"color\":\"#283442\"}},\"type\":\"scatter\"}],\"scatterternary\":[{\"marker\":{\"colorbar\":{\"outlinewidth\":0,\"ticks\":\"\"}},\"type\":\"scatterternary\"}],\"surface\":[{\"colorbar\":{\"outlinewidth\":0,\"ticks\":\"\"},\"colorscale\":[[0.0,\"#0d0887\"],[0.1111111111111111,\"#46039f\"],[0.2222222222222222,\"#7201a8\"],[0.3333333333333333,\"#9c179e\"],[0.4444444444444444,\"#bd3786\"],[0.5555555555555556,\"#d8576b\"],[0.6666666666666666,\"#ed7953\"],[0.7777777777777778,\"#fb9f3a\"],[0.8888888888888888,\"#fdca26\"],[1.0,\"#f0f921\"]],\"type\":\"surface\"}],\"table\":[{\"cells\":{\"fill\":{\"color\":\"#506784\"},\"line\":{\"color\":\"rgb(17,17,17)\"}},\"header\":{\"fill\":{\"color\":\"#2a3f5f\"},\"line\":{\"color\":\"rgb(17,17,17)\"}},\"type\":\"table\"}]},\"layout\":{\"annotationdefaults\":{\"arrowcolor\":\"#f2f5fa\",\"arrowhead\":0,\"arrowwidth\":1},\"autotypenumbers\":\"strict\",\"coloraxis\":{\"colorbar\":{\"outlinewidth\":0,\"ticks\":\"\"}},\"colorscale\":{\"diverging\":[[0,\"#8e0152\"],[0.1,\"#c51b7d\"],[0.2,\"#de77ae\"],[0.3,\"#f1b6da\"],[0.4,\"#fde0ef\"],[0.5,\"#f7f7f7\"],[0.6,\"#e6f5d0\"],[0.7,\"#b8e186\"],[0.8,\"#7fbc41\"],[0.9,\"#4d9221\"],[1,\"#276419\"]],\"sequential\":[[0.0,\"#0d0887\"],[0.1111111111111111,\"#46039f\"],[0.2222222222222222,\"#7201a8\"],[0.3333333333333333,\"#9c179e\"],[0.4444444444444444,\"#bd3786\"],[0.5555555555555556,\"#d8576b\"],[0.6666666666666666,\"#ed7953\"],[0.7777777777777778,\"#fb9f3a\"],[0.8888888888888888,\"#fdca26\"],[1.0,\"#f0f921\"]],\"sequentialminus\":[[0.0,\"#0d0887\"],[0.1111111111111111,\"#46039f\"],[0.2222222222222222,\"#7201a8\"],[0.3333333333333333,\"#9c179e\"],[0.4444444444444444,\"#bd3786\"],[0.5555555555555556,\"#d8576b\"],[0.6666666666666666,\"#ed7953\"],[0.7777777777777778,\"#fb9f3a\"],[0.8888888888888888,\"#fdca26\"],[1.0,\"#f0f921\"]]},\"colorway\":[\"#636efa\",\"#EF553B\",\"#00cc96\",\"#ab63fa\",\"#FFA15A\",\"#19d3f3\",\"#FF6692\",\"#B6E880\",\"#FF97FF\",\"#FECB52\"],\"font\":{\"color\":\"#f2f5fa\"},\"geo\":{\"bgcolor\":\"rgb(17,17,17)\",\"lakecolor\":\"rgb(17,17,17)\",\"landcolor\":\"rgb(17,17,17)\",\"showlakes\":true,\"showland\":true,\"subunitcolor\":\"#506784\"},\"hoverlabel\":{\"align\":\"left\"},\"hovermode\":\"closest\",\"mapbox\":{\"style\":\"dark\"},\"paper_bgcolor\":\"rgb(17,17,17)\",\"plot_bgcolor\":\"rgb(17,17,17)\",\"polar\":{\"angularaxis\":{\"gridcolor\":\"#506784\",\"linecolor\":\"#506784\",\"ticks\":\"\"},\"bgcolor\":\"rgb(17,17,17)\",\"radialaxis\":{\"gridcolor\":\"#506784\",\"linecolor\":\"#506784\",\"ticks\":\"\"}},\"scene\":{\"xaxis\":{\"backgroundcolor\":\"rgb(17,17,17)\",\"gridcolor\":\"#506784\",\"gridwidth\":2,\"linecolor\":\"#506784\",\"showbackground\":true,\"ticks\":\"\",\"zerolinecolor\":\"#C8D4E3\"},\"yaxis\":{\"backgroundcolor\":\"rgb(17,17,17)\",\"gridcolor\":\"#506784\",\"gridwidth\":2,\"linecolor\":\"#506784\",\"showbackground\":true,\"ticks\":\"\",\"zerolinecolor\":\"#C8D4E3\"},\"zaxis\":{\"backgroundcolor\":\"rgb(17,17,17)\",\"gridcolor\":\"#506784\",\"gridwidth\":2,\"linecolor\":\"#506784\",\"showbackground\":true,\"ticks\":\"\",\"zerolinecolor\":\"#C8D4E3\"}},\"shapedefaults\":{\"line\":{\"color\":\"#f2f5fa\"}},\"sliderdefaults\":{\"bgcolor\":\"#C8D4E3\",\"bordercolor\":\"rgb(17,17,17)\",\"borderwidth\":1,\"tickwidth\":0},\"ternary\":{\"aaxis\":{\"gridcolor\":\"#506784\",\"linecolor\":\"#506784\",\"ticks\":\"\"},\"baxis\":{\"gridcolor\":\"#506784\",\"linecolor\":\"#506784\",\"ticks\":\"\"},\"bgcolor\":\"rgb(17,17,17)\",\"caxis\":{\"gridcolor\":\"#506784\",\"linecolor\":\"#506784\",\"ticks\":\"\"}},\"title\":{\"x\":0.05},\"updatemenudefaults\":{\"bgcolor\":\"#506784\",\"borderwidth\":0},\"xaxis\":{\"automargin\":true,\"gridcolor\":\"#283442\",\"linecolor\":\"#506784\",\"ticks\":\"\",\"title\":{\"standoff\":15},\"zerolinecolor\":\"#283442\",\"zerolinewidth\":2},\"yaxis\":{\"automargin\":true,\"gridcolor\":\"#283442\",\"linecolor\":\"#506784\",\"ticks\":\"\",\"title\":{\"standoff\":15},\"zerolinecolor\":\"#283442\",\"zerolinewidth\":2}}},\"xaxis\":{\"anchor\":\"y\",\"domain\":[0.0,1.0],\"title\":{\"text\":\"gameDate\"}},\"yaxis\":{\"anchor\":\"x\",\"domain\":[0.0,1.0],\"title\":{\"text\":\"value\"}},\"legend\":{\"title\":{\"text\":\"variable\"},\"tracegroupgap\":0},\"margin\":{\"t\":60},\"height\":400,\"width\":800},                        {\"responsive\": true}                    ).then(function(){\n",
              "                            \n",
              "var gd = document.getElementById('5a392d72-25da-4f94-aad2-6fd1b096354c');\n",
              "var x = new MutationObserver(function (mutations, observer) {{\n",
              "        var display = window.getComputedStyle(gd).display;\n",
              "        if (!display || display === 'none') {{\n",
              "            console.log([gd, 'removed!']);\n",
              "            Plotly.purge(gd);\n",
              "            observer.disconnect();\n",
              "        }}\n",
              "}});\n",
              "\n",
              "// Listen for the removal of the full notebook cells\n",
              "var notebookContainer = gd.closest('#notebook-container');\n",
              "if (notebookContainer) {{\n",
              "    x.observe(notebookContainer, {childList: true});\n",
              "}}\n",
              "\n",
              "// Listen for the clearing of the current output cell\n",
              "var outputEl = gd.closest('.output');\n",
              "if (outputEl) {{\n",
              "    x.observe(outputEl, {childList: true});\n",
              "}}\n",
              "\n",
              "                        })                };                            </script>        </div>\n",
              "</body>\n",
              "</html>"
            ]
          },
          "metadata": {}
        }
      ]
    },
    {
      "cell_type": "code",
      "source": [
        "#@title Current cup team\n",
        "\n",
        "currentCupTeam = score_df.loc[score_df.cupTeam.last_valid_index(), 'cupTeam']\n",
        "currentCupTeam"
      ],
      "metadata": {
        "colab": {
          "base_uri": "https://localhost:8080/",
          "height": 35
        },
        "id": "lt9lBOkABBjP",
        "outputId": "58a62a82-ea1b-40b1-aee9-fd762dde6d88",
        "cellView": "form"
      },
      "execution_count": 39,
      "outputs": [
        {
          "output_type": "execute_result",
          "data": {
            "text/plain": [
              "'BUF'"
            ],
            "application/vnd.google.colaboratory.intrinsic+json": {
              "type": "string"
            }
          },
          "metadata": {},
          "execution_count": 39
        }
      ]
    },
    {
      "cell_type": "code",
      "source": [
        "#@title Next cup game\n",
        "\n",
        "next_cup_idx = next_cup_game(score_df,currentCupTeam)\n",
        "score_df.loc[next_cup_idx,:]"
      ],
      "metadata": {
        "id": "1m9i-1myatyS",
        "colab": {
          "base_uri": "https://localhost:8080/"
        },
        "outputId": "368069a9-f313-4bec-bd4b-d60c5d6a5a1a"
      },
      "execution_count": 40,
      "outputs": [
        {
          "output_type": "execute_result",
          "data": {
            "text/plain": [
              "gameDate     20221022\n",
              "homeTeam          VAN\n",
              "awayTeam          BUF\n",
              "homeScore           0\n",
              "awayScore           0\n",
              "cupGame             1\n",
              "cupTeam          None\n",
              "homeOwner           A\n",
              "awayOwner           E\n",
              "cupOwner             \n",
              "Name: 83, dtype: object"
            ]
          },
          "metadata": {},
          "execution_count": 40
        }
      ]
    },
    {
      "cell_type": "code",
      "source": [
        "#@title Hypothetical next cup game\n",
        "\n",
        "for winner in ['home', 'away']:\n",
        "  hypo_df = score_df.iloc[next_cup_idx:,:].reset_index(drop=True)\n",
        "  hypo_df.loc[0, f'{winner}Score'] = 1\n",
        "  hypo_df.loc[0, 'cupTeam'] = hypo_df.loc[0, f'{winner}Team']\n",
        "  hypo_df.loc[0, 'cupOwner'] = hypo_df.loc[0, f'{winner}Owner']\n",
        "\n",
        "  hypo_team = hypo_df.loc[0, 'cupTeam']\n",
        "  hypo_owner = hypo_df.loc[0, 'cupOwner']\n",
        "  \n",
        "  score_season(hypo_df, hypo_team)\n",
        "\n",
        "  hypo_next_cup_idx = next_cup_game(hypo_df,hypo_team)\n",
        "\n",
        "  print(f\"\\nIf {hypo_owner} wins:\\n\")\n",
        "  print(hypo_df.loc[hypo_next_cup_idx,:])\n",
        "\n",
        "\n",
        "\n"
      ],
      "metadata": {
        "id": "jAdQOLq40WCF",
        "colab": {
          "base_uri": "https://localhost:8080/"
        },
        "outputId": "11c5bb3f-146a-474b-9c7b-ae903ad139d6",
        "cellView": "form"
      },
      "execution_count": 41,
      "outputs": [
        {
          "output_type": "stream",
          "name": "stdout",
          "text": [
            "\n",
            "If A wins:\n",
            "\n",
            "gameDate     20221024\n",
            "homeTeam          VAN\n",
            "awayTeam          CAR\n",
            "homeScore           0\n",
            "awayScore           0\n",
            "cupGame             1\n",
            "cupTeam          None\n",
            "homeOwner           A\n",
            "awayOwner           A\n",
            "cupOwner             \n",
            "Name: 13, dtype: object\n",
            "\n",
            "If E wins:\n",
            "\n",
            "gameDate     20221025\n",
            "homeTeam          SEA\n",
            "awayTeam          BUF\n",
            "homeScore           0\n",
            "awayScore           0\n",
            "cupGame             1\n",
            "cupTeam          None\n",
            "homeOwner           R\n",
            "awayOwner           E\n",
            "cupOwner             \n",
            "Name: 21, dtype: object\n"
          ]
        }
      ]
    },
    {
      "cell_type": "code",
      "source": [],
      "metadata": {
        "id": "Tpfl5GuRAFvk"
      },
      "execution_count": 41,
      "outputs": []
    }
  ]
}